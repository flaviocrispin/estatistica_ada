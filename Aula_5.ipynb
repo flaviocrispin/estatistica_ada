{
  "nbformat": 4,
  "nbformat_minor": 0,
  "metadata": {
    "colab": {
      "provenance": []
    },
    "kernelspec": {
      "name": "python3",
      "display_name": "Python 3"
    },
    "language_info": {
      "name": "python"
    }
  },
  "cells": [
    {
      "cell_type": "code",
      "execution_count": null,
      "metadata": {
        "id": "WMlYVRq1W3Uv"
      },
      "outputs": [],
      "source": []
    },
    {
      "cell_type": "markdown",
      "source": [
        "**1. Introdução à Teoria do Limite Central (TLC):**\n",
        "\n",
        "A Teoria do Limite Central é um dos conceitos fundamentais na estatística, desempenhando um papel central em várias disciplinas, incluindo ciência de dados e economia. Para começar nossa discussão, é crucial compreender a base da Teoria do Limite Central.\n",
        "\n",
        "**1.1 Definição e Importância:**\n",
        "\n",
        "A Teoria do Limite Central é um teorema estatístico fundamental que descreve o comportamento das médias de uma amostra aleatória retirada de uma população, independentemente da forma da distribuição original da população. Em termos simples, ela afirma que, à medida que o tamanho da amostra aumenta, a distribuição das médias amostrais se aproxima de uma distribuição normal, independentemente da forma da população original.\n",
        "\n",
        "A importância da TLC reside na capacidade de generalizar conclusões sobre uma população com base em uma amostra, mesmo quando a distribuição da população é desconhecida ou não segue uma distribuição normal. Isso é especialmente relevante em situações práticas, onde muitas variáveis aleatórias contribuem para um fenômeno complexo.\n",
        "\n",
        "**1.2 Relação com a Estatística e Inferência:**\n",
        "\n",
        "A Teoria do Limite Central é fundamental para a inferência estatística, que envolve fazer afirmações ou previsões sobre uma população com base em uma amostra. Ela fornece as bases para a construção de intervalos de confiança e a realização de testes de hipóteses.\n",
        "\n",
        "Ao compreender a TLC, os estatísticos podem realizar inferências mais precisas sobre médias populacionais, mesmo quando a distribuição da população é desconhecida. Isso tem implicações significativas para a pesquisa econômica, onde a análise de dados amostrais é comum, e para a ciência de dados, onde a inferência estatística é essencial para tomada de decisões baseada em dados."
      ],
      "metadata": {
        "id": "ujHgLicOW6SP"
      }
    },
    {
      "cell_type": "markdown",
      "source": [
        "**2. Conceitos Básicos:**\n",
        "\n",
        "**2.1 População e Amostra:**\n",
        "\n",
        "- *População:* Refere-se ao conjunto completo de observações ou elementos que compartilham uma característica específica. No exemplo, a população seria o conjunto total de alturas de todos os indivíduos de interesse.\n",
        "\n",
        "- *Amostra:* É um subconjunto representativo da população. Em nossa aplicação, a amostra seria um grupo de alturas selecionado aleatoriamente a partir da população.\n",
        "\n",
        "**2.2 Variáveis Aleatórias e Suas Distribuições:**\n",
        "\n",
        "- *Variáveis Aleatórias:* São quantidades que variam aleatoriamente. No contexto da nossa discussão, a altura de um indivíduo é uma variável aleatória, pois pode assumir diferentes valores.\n",
        "\n",
        "- *Distribuições:* Descrevem a probabilidade de observar diferentes valores para uma variável aleatória. A população de alturas tem uma distribuição original, que pode ou não ser normal.\n",
        "\n",
        "Ao entender esses conceitos, podemos avançar para o teorema em si, onde o Teorema do Limite Central estabelece as condições sob as quais as médias amostrais, independentemente da distribuição da população original, se aproximam de uma distribuição normal à medida que o tamanho da amostra aumenta. Esse é um ponto crucial para a inferência estatística, permitindo generalizações precisas sobre a população com base em amostras, mesmo quando a distribuição da população é desconhecida.\n"
      ],
      "metadata": {
        "id": "IgIxCFV4d1Hu"
      }
    },
    {
      "cell_type": "markdown",
      "source": [
        "**3. Enunciado do Teorema do Limite Central:**\n",
        "\n",
        "No passo 3, vamos explorar o enunciado do Teorema do Limite Central (TLC), que é fundamental para entender como as médias amostrais se comportam à medida que aumentamos o tamanho da amostra. O TLC é um dos resultados mais importantes da estatística e tem implicações significativas para a inferência estatística.\n",
        "\n",
        "O enunciado do Teorema do Limite Central é o seguinte:\n",
        "\n",
        "Dada uma população com qualquer forma de distribuição, a distribuição das médias amostrais de tamanho $( n )$ (onde $( n )$ é o tamanho da amostra) se aproxima de uma distribuição normal à medida que $( n )$ aumenta, independentemente da forma da distribuição original.\n",
        "\n",
        "Em termos mais técnicos, se $( X_1, X_2, ..., X_n )$ são variáveis aleatórias independentes e identicamente distribuídas (i.i.d.) com média $( \\mu )$e desvio padrão $( \\sigma )$ (finito), então a média amostral $( \\bar{X} $) (média das $( n )$ observações) tem uma distribuição aproximadamente normal com média $( \\mu )$ e desvio padrão $( \\frac{\\sigma}{\\sqrt{n}} )$ para amostras suficientemente grandes.\n",
        "\n",
        "Esse resultado é fundamental porque significa que, mesmo que a população original não siga uma distribuição normal, a média amostral tende a se comportar de acordo com uma distribuição normal à medida que aumentamos o tamanho da amostra. Isso facilita muito a realização de inferências sobre a média populacional, independentemente da distribuição subjacente."
      ],
      "metadata": {
        "id": "hwChPCYueK-H"
      }
    },
    {
      "cell_type": "code",
      "source": [
        "import pandas as pd\n",
        "import numpy as np\n",
        "\n",
        "# Supondo que 'df' é o DataFrame e 'VR_DESP_REAL' é a coluna de despesas reais\n",
        "# Certifique-se de substituir 'df' e 'VR_DESP_REAL' pelos seus próprios dados\n",
        "\n",
        "# Configurando seed para reprodutibilidade\n",
        "np.random.seed(42)\n",
        "\n",
        "# Definindo o tamanho da amostra e a quantidade de amostras\n",
        "tamanho_amostra = 30\n",
        "quantidade_amostras = 1000\n",
        "\n",
        "# Criando um DataFrame para armazenar as médias amostrais padronizadas\n",
        "medias_amostrais_padronizadas = pd.DataFrame()\n",
        "\n",
        "# Média e desvio padrão populacionais (assumindo que são conhecidos para fins de exemplo)\n",
        "media_populacional = df['VR_DESP_REAL'].mean()\n",
        "desvio_padrao_populacional = df['VR_DESP_REAL'].std()\n",
        "\n",
        "# Realizando amostragem e calculando as médias\n",
        "for _ in range(quantidade_amostras):\n",
        "    amostra = df['VR_DESP_REAL'].sample(tamanho_amostra, replace=True)\n",
        "    media_amostral = np.mean(amostra)\n",
        "\n",
        "    # Padronizando a média amostral\n",
        "    z_score = (media_amostral - media_populacional) / (desvio_padrao_populacional / np.sqrt(tamanho_amostra))\n",
        "\n",
        "    medias_amostrais_padronizadas = medias_amostrais_padronizadas.append({'Z_Score': z_score}, ignore_index=True)\n",
        "\n",
        "# Exibindo o DataFrame com os Z-scores das médias amostrais\n",
        "print(medias_amostrais_padronizadas.head())\n",
        "\n"
      ],
      "metadata": {
        "id": "ID4m0npEXNrV"
      },
      "execution_count": null,
      "outputs": []
    },
    {
      "cell_type": "markdown",
      "source": [
        "**4. Limitações da Teoria do Limite Central:**\n",
        "\n",
        "O ponto 7 aborda as limitações da Teoria do Limite Central (TLC). Embora o TLC seja um teorema poderoso e amplamente utilizado na estatística, é importante estar ciente de suas limitações para uma aplicação adequada. Aqui estão algumas das principais limitações:\n",
        "\n",
        "**4.1 Condições para Aplicação Adequada:**\n",
        "   - O TLC pressupõe que as variáveis aleatórias na amostra são independentes e identicamente distribuídas (i.i.d.). Se essas condições não forem atendidas, a aplicação do TLC pode não ser apropriada.\n",
        "\n",
        "**4.2 Sensibilidade ao Tamanho da Amostra:**\n",
        "   - Embora o TLC afirme que a distribuição das médias amostrais se aproxima de uma normal à medida que o tamanho da amostra aumenta, essa convergência pode ser mais lenta para distribuições com caudas pesadas. Em algumas situações, um tamanho de amostra muito grande pode ser necessário para uma aproximação adequada.\n",
        "\n",
        "**4.3 Dependência da Convergência:**\n",
        "   - A velocidade da convergência para a distribuição normal pode depender da forma da distribuição original. Em casos de distribuições fortemente assimétricas ou com caudas pesadas, a convergência pode ser mais lenta.\n",
        "\n",
        "**4.4 Necessidade de Desvio Padrão Finito:**\n",
        "   - O TLC assume que o desvio padrão da população é finito. Se o desvio padrão for infinito, o teorema pode não ser aplicável.\n",
        "\n",
        "**4.5 Limitação para Pequenos Tamanhos de Amostra:**\n",
        "   - Para tamanhos de amostra pequenos, a aproximação para uma distribuição normal pode não ser válida. O TLC é mais eficaz em amostras grandes.\n",
        "\n",
        "**4.6 Dependência da Forma da Distribuição Original:**\n",
        "   - O TLC não transforma a distribuição original em uma normal, mas sim a distribuição das médias amostrais. Portanto, se a distribuição original for muito diferente de uma normal, mesmo para grandes tamanhos de amostra, a aplicação do TLC pode ser questionável.\n",
        "\n",
        "**4.7 Alternativas quando Condições não São Atendidas:**\n",
        "   - Quando as condições do TLC não são atendidas, é necessário considerar alternativas, como a utilização de métodos bootstrap, especialmente em casos de amostras pequenas ou distribuições não normais.\n",
        "\n",
        "É crucial entender essas limitações ao aplicar o TLC. Em muitas situações práticas, o teorema é extremamente útil, mas é importante estar ciente de suas condições de aplicação e considerar alternativas quando necessário."
      ],
      "metadata": {
        "id": "LYQybUmzkqEG"
      }
    },
    {
      "cell_type": "markdown",
      "source": [
        "\n",
        "**5. Impacto na Economia e Ciência de Dados:**\n",
        "\n",
        "**5.1 Na Economia:**\n",
        "   - *Inferência Estatística:* A TLC desempenha um papel significativo na inferência estatística em estudos econômicos. Permite extrair conclusões sobre a média de uma população com base em amostras, mesmo quando a distribuição original não é normal.\n",
        "\n",
        "   - *Previsão e Modelagem:* Em análises econômicas, onde lidamos com uma grande variedade de variáveis, a TLC facilita a modelagem estatística, tornando possível fazer previsões mais precisas e entender melhor o comportamento de diferentes indicadores econômicos.\n",
        "\n",
        "   - *Testes de Hipóteses:* A aplicação de testes de hipóteses em economia, muitas vezes, utiliza a TLC para fundamentar inferências sobre parâmetros populacionais, permitindo decisões mais informadas.\n",
        "\n",
        "**5.2 Na Ciência de Dados:**\n",
        "   - *Análise de Dados Amostrais:* A ciência de dados frequentemente envolve análise de dados amostrais. A TLC permite que os cientistas de dados façam inferências sobre a população com base nessas amostras, mesmo quando a distribuição subjacente é desconhecida.\n",
        "\n",
        "   - *Validação de Modelos:* Ao construir modelos preditivos em ciência de dados, a TLC é fundamental para validar a eficácia do modelo, especialmente quando se lida com grandes conjuntos de dados e é impraticável avaliar todas as observações.\n",
        "\n",
        "   - *Estimação de Parâmetros:* Na estimação de parâmetros populacionais a partir de amostras, a TLC oferece uma base teórica sólida para a construção de intervalos de confiança, auxiliando na quantificação da incerteza nas estimativas.\n",
        "\n",
        "   - *Aplicações em Machine Learning:* Em algoritmos de aprendizado de máquina, onde a eficácia muitas vezes depende de grandes conjuntos de dados, a TLC respalda a confiabilidade das inferências e predições.\n",
        "\n",
        "A TLC, ao proporcionar uma base teórica para lidar com médias amostrais, tem implicações diretas na forma como analisamos dados na economia e na ciência de dados. Essa abordagem estatística oferece um arcabouço robusto para lidar com a incerteza e a variabilidade inerentes a esses campos."
      ],
      "metadata": {
        "id": "lOY3FVwWli8L"
      }
    },
    {
      "cell_type": "code",
      "source": [],
      "metadata": {
        "id": "_wI2aFbMk8Pi"
      },
      "execution_count": null,
      "outputs": []
    }
  ]
}