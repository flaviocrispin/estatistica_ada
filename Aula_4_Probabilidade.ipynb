{
  "nbformat": 4,
  "nbformat_minor": 0,
  "metadata": {
    "colab": {
      "provenance": []
    },
    "kernelspec": {
      "name": "python3",
      "display_name": "Python 3"
    },
    "language_info": {
      "name": "python"
    }
  },
  "cells": [
    {
      "cell_type": "code",
      "execution_count": null,
      "metadata": {
        "id": "a_kiasODbhOo"
      },
      "outputs": [],
      "source": []
    },
    {
      "cell_type": "markdown",
      "source": [],
      "metadata": {
        "id": "CgS2WeaEbiAm"
      }
    },
    {
      "cell_type": "markdown",
      "source": [
        "# PROBABILIDADE"
      ],
      "metadata": {
        "id": "Yeuys_PqbihL"
      }
    },
    {
      "cell_type": "markdown",
      "source": [
        "**Introdução à Probabilidade: Definição, História e Relevância na Análise de Dados**\n",
        "\n",
        "A probabilidade é um conceito essencial em estatística e desempenha um papel fundamental na análise de dados. Nesta introdução, vamos explorar a definição de probabilidade, mergulhar brevemente em sua história e destacar sua significativa relevância na análise estatística.\n",
        "\n",
        "**Definição de Probabilidade:**\n",
        "\n",
        "A probabilidade é uma medida numérica que expressa a chance de ocorrência de um evento. Em termos mais simples, é a medida da certeza ou incerteza associada a um determinado resultado. Representada por valores entre 0 e 1, onde 0 significa impossibilidade e 1 indica certeza, a probabilidade é uma ferramenta poderosa para lidar com a incerteza inerente aos fenômenos aleatórios.\n",
        "\n",
        "**História da Probabilidade:**\n",
        "\n",
        "A história da teoria da probabilidade remonta ao século XVII, com contribuições significativas de pensadores como Blaise Pascal e Pierre de Fermat. O desenvolvimento da teoria da probabilidade foi impulsionado por desafios relacionados a jogos de azar, mas seu escopo expandiu-se para abranger uma ampla gama de disciplinas, incluindo estatística, ciência da computação, economia e muitas outras.\n",
        "\n",
        "**Relevância na Análise de Dados:**\n",
        "\n",
        "Na análise de dados, a probabilidade desempenha um papel crucial ao lidar com a variabilidade inerente aos conjuntos de dados. Permite quantificar a incerteza associada a resultados específicos e fornece a base para muitos métodos estatísticos. A compreensão da probabilidade é essencial para tomar decisões informadas, realizar previsões e inferir características populacionais com base em amostras.\n",
        "\n",
        "A aplicação da probabilidade na análise de dados é vasta, desde a previsão de tendências em séries temporais até a avaliação de riscos em projetos financeiros. Ela é central em testes de hipóteses, design experimental e modelagem estatística. Ao compreender a probabilidade, os analistas de dados ganham ferramentas valiosas para interpretar resultados, comunicar efetivamente a incerteza e fundamentar suas conclusões em bases sólidas.\n"
      ],
      "metadata": {
        "id": "XFqsDmv0by1R"
      }
    },
    {
      "cell_type": "code",
      "source": [],
      "metadata": {
        "id": "AZXIX87CbmP-"
      },
      "execution_count": null,
      "outputs": []
    },
    {
      "cell_type": "markdown",
      "source": [
        "**Introdução à Probabilidade: Conceitos Fundamentais e Aplicações Práticas em 30 minutos**\n",
        "\n",
        "**Definição de Probabilidade:**\n",
        "\n",
        "A probabilidade é uma medida numérica que quantifica a certeza ou incerteza associada a um evento. Representada entre 0 (impossibilidade) e 1 (certeza), a probabilidade nos fornece uma maneira objetiva de avaliar a chance de ocorrência de um evento específico.\n",
        "\n",
        "Para entender a probabilidade, é essencial explorar dois conceitos fundamentais: **espaço amostral** e **eventos**. O **espaço amostral** é o conjunto de todos os resultados possíveis de um experimento aleatório. Por exemplo, ao lançar um dado, o espaço amostral seria {1, 2, 3, 4, 5, 6}. **Eventos** são subconjuntos do espaço amostral, representando resultados específicos ou conjuntos de resultados.\n",
        "\n",
        "A fórmula geral para calcular a probabilidade de um evento \\(A\\) é:\n",
        "\n",
        " P(A) = número de resultados favoráveis para o evento A/número total de resultados possíveis\n",
        "\n",
        "\n",
        "\n",
        "Neste exemplo, o espaço amostral é {1, 2, 3, 4, 5, 6}, e o evento é obter um número par. A probabilidade é calculada através da contagem de resultados favoráveis (números pares) em relação ao espaço amostral total.\n",
        "\n",
        "**Conclusão:**\n",
        "\n",
        "Ao compreender a definição de probabilidade, espaço amostral e eventos, estabelecemos uma base sólida para explorar aplicações mais complexas. Nos módulos seguintes, aprofundaremos esses conceitos, aplicando-os a conjuntos de dados reais e explorando seu papel essencial na análise estatística."
      ],
      "metadata": {
        "id": "G9QYk8rgdSyQ"
      }
    },
    {
      "cell_type": "code",
      "source": [
        "# Calcular a probabilidade\n",
        "total_coluna = len(df)\n",
        "evento = len(df[df['coluna'] == 'palavra'])\n",
        "\n",
        "probabilidade = evento / total_coluna"
      ],
      "metadata": {
        "id": "jWuRmBQtdbEe"
      },
      "execution_count": null,
      "outputs": []
    },
    {
      "cell_type": "markdown",
      "source": [
        "**2. Definição de Probabilidade Condicional:**\n",
        "\n",
        "A probabilidade condicional é uma extensão importante do conceito básico de probabilidade e é fundamental para entender eventos que podem depender de condições específicas. Vamos explorar detalhadamente a definição e a fórmula associada.\n",
        "\n",
        "**2.1. Definição Básica:**\n",
        "   - Probabilidade condicional, denotada como \\( P(A|B) \\), é a probabilidade de ocorrer o evento \\(A\\) dado que o evento \\(B\\) já ocorreu.\n",
        "   - Essa probabilidade é calculada levando em consideração a restrição imposta por \\(B\\).\n",
        "\n",
        "**2.2. Fórmula Fundamental:**\n",
        "![image.png](data:image/png;base64,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)\n",
        "\n",
        "**2.3. Exemplos Ilustrativos:**\n",
        "   - Para consolidar a fórmula, considere um baralho de cartas. Se \\(A\\) for o evento \"tirar uma carta de espadas\" e \\(B\\) for o evento \"tirar uma carta preta\", então \\(P(A|B)\\) é a probabilidade de tirar uma carta de espadas dado que já foi tirada uma carta preta.\n",
        "![image.png](data:image/png;base64,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)\n",
        "\n",
        "**2.4. Interpretação Intuitiva:**\n",
        "   - Probabilidade condicional reflete a probabilidade ajustada após a ocorrência de um evento condicional. Ela proporciona uma visão mais precisa das chances de um evento dado um contexto específico.\n",
        "\n",
        "**2.5. Considerações Práticas:**\n",
        "   - Explique como a probabilidade condicional é aplicada em situações do mundo real, como o diagnóstico médico. A probabilidade de uma pessoa ter uma doença dado um resultado positivo no teste é um exemplo prático da aplicação da probabilidade condicional.\n",
        "\n",
        "Esta explicação visa fornecer uma compreensão sólida da probabilidade condicional, destacando sua importância e aplicabilidade em diversos cenários."
      ],
      "metadata": {
        "id": "9DtmPxzJfD9z"
      }
    },
    {
      "cell_type": "code",
      "source": [
        "\n",
        "# Calcular a probabilidade de determinado evento\n",
        "total_passageiros = len(titanic_data)\n",
        "total_sobreviventes = len(titanic_data[titanic_data['Survived'] == 1])\n",
        "\n",
        "# Probabilidade de sobreviver, dado que a classe da cabine é 1 (primeira classe)\n",
        "probabilidade_sobreviver_classe1 = len(titanic_data[(titanic_data['Survived'] == 1) & (titanic_data['Pclass'] == 1)]) / total_sobreviventes\n",
        "\n",
        "# Probabilidade de sobreviver, dado que a classe da cabine é 2 (segunda classe)\n",
        "probabilidade_sobreviver_classe2 = len(titanic_data[(titanic_data['Survived'] == 1) & (titanic_data['Pclass'] == 2)]) / total_sobreviventes\n",
        "\n",
        "# Probabilidade de sobreviver, dado que a classe da cabine é 3 (terceira classe)\n",
        "probabilidade_sobreviver_classe3 = len(titanic_data[(titanic_data['Survived'] == 1) & (titanic_data['Pclass'] == 3)]) / total_sobreviventes\n",
        "\n",
        "print(f'Total de passageiros: {total_passageiros}')\n",
        "print(f'Total de sobreviventes: {total_sobreviventes}')\n",
        "print(f'Probabilidade de sobreviver na classe 1: {probabilidade_sobreviver_classe1:.2%}')\n",
        "print(f'Probabilidade de sobreviver na classe 2: {probabilidade_sobreviver_classe2:.2%}')\n",
        "print(f'Probabilidade de sobreviver na classe 3: {probabilidade_sobreviver_classe3:.2%}')\n"
      ],
      "metadata": {
        "id": "islE2urhfb2j"
      },
      "execution_count": null,
      "outputs": []
    },
    {
      "cell_type": "markdown",
      "source": [
        "**Distribuição de Probabilidade: Conceito Fundamental em Estatística**\n",
        "\n",
        "A distribuição de probabilidade é um conceito central em estatística que descreve a probabilidade associada a diferentes resultados possíveis em um experimento aleatório. Em outras palavras, ela fornece uma visão sistemática das chances de ocorrência de cada possível resultado.\n",
        "\n",
        "**Características Principais:**\n",
        "\n",
        "1. **Espaço Amostral:** A distribuição de probabilidade é construída com base no espaço amostral, que representa todos os resultados possíveis de um experimento. Cada elemento no espaço amostral é chamado de ponto amostral.\n",
        "\n",
        "2. **Função de Probabilidade:** A distribuição é frequentemente expressa por meio de uma função de probabilidade, que associa a cada ponto amostral uma probabilidade correspondente. A função de probabilidade deve atender a duas condições: a probabilidade de cada ponto amostral é não negativa e a soma de todas as probabilidades é igual a 1.\n",
        "\n",
        "3. **Eventos:** Eventos específicos são conjuntos de pontos amostrais. A probabilidade de um evento é a soma das probabilidades dos pontos amostrais que o compõem.\n",
        "\n",
        "4. **Variáveis Aleatórias:** A distribuição de probabilidade está frequentemente associada a variáveis aleatórias, que são quantidades que podem variar e cujo valor não pode ser previsto com certeza. Existem variáveis aleatórias discretas, que assumem valores isolados, e contínuas, que podem assumir qualquer valor em um intervalo.\n",
        "\n",
        "**Tipos Comuns de Distribuições:**\n",
        "\n",
        "1. **Distribuição Uniforme:** Todos os pontos amostrais têm a mesma probabilidade.\n",
        "\n",
        "2. **Distribuição Binomial:** Modela o número de sucessos em um número fixo de ensaios independentes, cada um com a mesma probabilidade de sucesso.\n",
        "\n",
        "3. **Distribuição Normal (Gaussiana):** Possui uma forma de sino e é caracterizada pela média e desvio padrão.\n",
        "\n",
        "4. **Distribuição Exponencial:** Modela o tempo entre eventos em um processo de Poisson.\n",
        "\n",
        "**Importância na Estatística:**\n",
        "\n",
        "- **Inferência Estatística:** Permite fazer inferências sobre parâmetros populacionais com base em amostras observadas.\n",
        "  \n",
        "- **Tomada de Decisão:** Ajuda na avaliação de riscos e na tomada de decisões informadas.\n",
        "\n",
        "- **Modelagem Estatística:** Serve como base para muitos modelos estatísticos que representam fenômenos do mundo real.\n",
        "\n",
        "A distribuição de probabilidade é uma ferramenta crucial na estatística, fornecendo uma estrutura sólida para entender a aleatoriedade e a variabilidade em dados observados. A escolha da distribuição apropriada depende da natureza do fenômeno em estudo e das características dos dados."
      ],
      "metadata": {
        "id": "tdOP3LqjhHq1"
      }
    },
    {
      "cell_type": "code",
      "source": [],
      "metadata": {
        "id": "RDVkYYM6g1pm"
      },
      "execution_count": null,
      "outputs": []
    }
  ]
}